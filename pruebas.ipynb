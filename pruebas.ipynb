{
 "cells": [
  {
   "cell_type": "code",
   "execution_count": 2,
   "metadata": {},
   "outputs": [],
   "source": [
    "import os\n",
    "import sys\n",
    "\n",
    "sys.path.append(\"src/\")\n",
    "\n",
    "import utils\n",
    "import datetime\n",
    "import numpy as np\n",
    "from config import Configuration\n",
    "from otero_precipitation import Model\n",
    "from equations import diff_eqs,vR_D\n",
    "from spatial_equations import diff_eqs as spatial_diff_eqs\n",
    "try:\n",
    "    from otero_precipitation_wrapper import Model as _Model\n",
    "except ImportError:\n",
    "    pass\n",
    "import time\n",
    "import tempfile\n",
    "import pandas as pd"
   ]
  },
  {
   "cell_type": "code",
   "execution_count": null,
   "metadata": {},
   "outputs": [],
   "source": [
    "from otero_precipitation_wrapper import Model as _Model"
   ]
  },
  {
   "cell_type": "code",
   "execution_count": null,
   "metadata": {},
   "outputs": [],
   "source": [
    "def myConf():\n",
    "    h = 10.\n",
    "    location = 'cordoba'\n",
    "\n",
    "    configuration = Configuration('resources/1c.cfg')\n",
    "    configuration.config_parser.set('location','name',location)\n",
    "    configuration.config_parser.set('simulation','start_date','2023-01-01')\n",
    "    configuration.config_parser.set('simulation','end_date','2024-05-17')\n",
    "    configuration.config_parser.set('breeding_site','height',str(h))\n",
    "    configuration.config_parser.set('breeding_site','amount','1')\n",
    "\n",
    "    configuration.save('myConf.cfg')\n",
    "    return configuration\n"
   ]
  },
  {
   "cell_type": "code",
   "execution_count": null,
   "metadata": {},
   "outputs": [],
   "source": [
    "configuration = myConf()\n",
    "\n",
    "model = Model(configuration)\n",
    "t1 = time.time()\n",
    "time_range, results = model.solveEquations()\n",
    "t2 = time.time()\n",
    "print('Elapsed time: ', t2-t1)"
   ]
  },
  {
   "cell_type": "code",
   "execution_count": null,
   "metadata": {},
   "outputs": [],
   "source": [
    "indexOf=lambda t: (np.abs(time_range-t)).argmin()\n",
    "\n",
    "start_datetime = datetime.datetime.strptime(configuration.getString('simulation','start_date'),'%Y-%m-%d')\n",
    "end_datetime = datetime.datetime.strptime(configuration.getString('simulation','end_date'),'%Y-%m-%d')\n",
    "dates = [(start_datetime + datetime.timedelta(days=t)) for t in time_range]\n",
    "\n",
    "parameters = model.parameters\n",
    "\n",
    "EGG    = parameters.EGG\n",
    "LARVAE = parameters.LARVAE\n",
    "PUPAE  = parameters.PUPAE\n",
    "ADULT1 = parameters.ADULT1\n",
    "ADULT2 = parameters.ADULT2\n",
    "WATER  = parameters.WATER\n",
    "OVIPOSITION = parameters.OVIPOSITION\n",
    "BS_a   = parameters.BS_a\n",
    "\n",
    "E = np.sum(results[:,EGG],axis=1)/BS_a\n",
    "L = np.sum(results[:,LARVAE],axis=1)/BS_a\n",
    "A = (results[:,ADULT1]+results[:,ADULT2])/BS_a\n",
    "\n",
    "lwO = np.array([results[indexOf(t),OVIPOSITION] - results[indexOf(t-7),OVIPOSITION] for t in time_range])\n",
    "lwO_mean = np.array([lwO[indexOf(t-7):indexOf(t+7)].mean(axis=0) for t in time_range])\n",
    "O = np.sum(lwO_mean,axis=1)/BS_a\n",
    "\n",
    "T      = parameters.weather.T\n",
    "RH     = parameters.weather.RH\n",
    "\n",
    "location = parameters.location['name']\n",
    "\n",
    "T = T(time_range) - 273.15\n",
    "P = utils.getPrecipitationsFromCsv(f'data/public/{location}.csv',start_datetime.date(),end_datetime.date())\n",
    "RH = RH(time_range)\n",
    "\n",
    "df = pd.DataFrame({'date':dates,'E':E,'L':L,'A':A,'O':O,'p':P,'T':T,'RH':RH})\n",
    "df.set_index('date',inplace=True)\n",
    "df.to_csv('results.csv',index=True)"
   ]
  },
  {
   "cell_type": "code",
   "execution_count": null,
   "metadata": {},
   "outputs": [],
   "source": [
    "model = _Model('myConf.cfg')\n",
    "t1 = time.time()\n",
    "time_range, results = model.solveEquations()\n",
    "t2 = time.time()\n",
    "print('Elapsed time: ', t2-t1)\n",
    "\n",
    "results = np.array(results)\n",
    "time_range = np.array(time_range)"
   ]
  },
  {
   "cell_type": "code",
   "execution_count": null,
   "metadata": {},
   "outputs": [],
   "source": [
    "indexOf=lambda t: (np.abs(time_range-t)).argmin()\n",
    "\n",
    "start_datetime = datetime.datetime.strptime(configuration.getString('simulation','start_date'),'%Y-%m-%d')\n",
    "end_datetime = datetime.datetime.strptime(configuration.getString('simulation','end_date'),'%Y-%m-%d')\n",
    "dates = [(start_datetime + datetime.timedelta(days=t)) for t in time_range]\n",
    "\n",
    "parameters = model.parameters\n",
    "\n",
    "EGG    = slice(parameters.EGG.first(), parameters.EGG.first() + parameters.EGG.size()) \n",
    "LARVAE = slice(parameters.LARVAE.first(), parameters.LARVAE.first() + parameters.LARVAE.size())\n",
    "PUPAE  = slice(parameters.PUPAE.first(), parameters.PUPAE.first() + parameters.PUPAE.size())\n",
    "ADULT1 = parameters.ADULT1\n",
    "ADULT2 = parameters.ADULT2\n",
    "WATER  = slice(parameters.WATER.first(), parameters.WATER.first() + parameters.WATER.size())\n",
    "OVIPOSITION = slice(parameters.OVIPOSITION.first(), parameters.OVIPOSITION.first() + parameters.OVIPOSITION.size())\n",
    "BS_a   = parameters.BS_a\n",
    "\n",
    "E = np.sum(results[:,EGG],axis=1)/BS_a\n",
    "L = np.sum(results[:,LARVAE],axis=1)/BS_a\n",
    "A = (results[:,ADULT1]+results[:,ADULT2])/BS_a\n",
    "\n",
    "lwO = np.array([results[indexOf(t),OVIPOSITION] - results[indexOf(t-7),OVIPOSITION] for t in time_range])\n",
    "lwO_mean = np.array([lwO[indexOf(t-7):indexOf(t+7)].mean(axis=0) for t in time_range])\n",
    "O = np.sum(lwO_mean,axis=1)/BS_a\n",
    "\n",
    "T      = parameters.weather.T\n",
    "RH     = parameters.weather.RH\n",
    "\n",
    "location = parameters.location\n",
    "\n",
    "T = np.array([T(t) - 273.15 for t in time_range])\n",
    "P = utils.getPrecipitationsFromCsv(f'data/public/{location}.csv',start_datetime.date(),end_datetime.date())\n",
    "RH = np.array([RH(t) - 273.15 for t in time_range])\n",
    "\n",
    "df1 = pd.DataFrame({'date':dates,'E':E,'L':L,'A':A,'O':O,'p':P,'T':T,'RH':RH})\n",
    "df1.set_index('date',inplace=True)\n",
    "df1.to_csv('results.csv',index=True)"
   ]
  },
  {
   "cell_type": "code",
   "execution_count": null,
   "metadata": {},
   "outputs": [],
   "source": [
    "import matplotlib.pyplot as plt"
   ]
  },
  {
   "cell_type": "code",
   "execution_count": null,
   "metadata": {},
   "outputs": [],
   "source": [
    "fig, axs = plt.subplots(2,1,height_ratios=[2,1],figsize=(10,5),sharex=True)\n",
    "fig.subplots_adjust(hspace=0.0)\n",
    "\n",
    "fig.suptitle('Comparison between Python and C++ results')\n",
    "\n",
    "axs[0].plot(df.index,df.E,label='Python')\n",
    "axs[0].plot(df1.index,df1.E,label='C++')\n",
    "axs[0].legend()\n",
    "axs[0].set_ylabel('Eggs #')\n",
    "\n",
    "axs[1].plot(df.index,np.abs((df.E - df1.E)/df1.E)*100)\n",
    "axs[1].semilogy();\n",
    "axs[1].set_ylabel('Relative error (%)');"
   ]
  },
  {
   "cell_type": "code",
   "execution_count": null,
   "metadata": {},
   "outputs": [],
   "source": [
    "fig, axs = plt.subplots(2,1,height_ratios=[2,1],figsize=(10,5),sharex=True)\n",
    "fig.subplots_adjust(hspace=0.0)\n",
    "\n",
    "fig.suptitle('Comparison between Python and C++ results')\n",
    "\n",
    "axs[0].plot(df.index,df.A,label='Python')\n",
    "axs[0].plot(df1.index,df1.A,label='C++')\n",
    "axs[0].legend()\n",
    "axs[0].set_ylabel('Adults #')\n",
    "\n",
    "axs[1].plot(df.index,np.abs((df.A - df1.A)/df1.A)*100)\n",
    "axs[1].semilogy();\n",
    "axs[1].set_ylabel('Relative error (%)');"
   ]
  },
  {
   "cell_type": "code",
   "execution_count": null,
   "metadata": {},
   "outputs": [],
   "source": [
    "fig, axs = plt.subplots(2,1,height_ratios=[2,1],figsize=(10,5),sharex=True)\n",
    "fig.subplots_adjust(hspace=0.0)\n",
    "\n",
    "fig.suptitle('Comparison between Python and C++ results')\n",
    "\n",
    "axs[0].plot(df.index,df.L,label='Python')\n",
    "axs[0].plot(df1.index,df1.L,label='C++')\n",
    "axs[0].legend()\n",
    "axs[0].set_ylabel('Larvae #')\n",
    "\n",
    "axs[1].plot(df.index,np.abs((df.L - df1.L)/(df1.L+1.e-10))*100)\n",
    "axs[1].semilogy();\n",
    "axs[1].set_ylabel('Relative error (%)');"
   ]
  },
  {
   "cell_type": "code",
   "execution_count": null,
   "metadata": {},
   "outputs": [],
   "source": []
  }
 ],
 "metadata": {
  "kernelspec": {
   "display_name": "conae",
   "language": "python",
   "name": "python3"
  },
  "language_info": {
   "codemirror_mode": {
    "name": "ipython",
    "version": 3
   },
   "file_extension": ".py",
   "mimetype": "text/x-python",
   "name": "python",
   "nbconvert_exporter": "python",
   "pygments_lexer": "ipython3",
   "version": "3.8.18"
  }
 },
 "nbformat": 4,
 "nbformat_minor": 2
}
